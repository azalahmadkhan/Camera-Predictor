{
 "cells": [
  {
   "cell_type": "code",
   "execution_count": 1,
   "id": "0bc79164",
   "metadata": {},
   "outputs": [],
   "source": [
    "import pandas as pd\n",
    "import numpy as np\n",
    "from sklearn import linear_model"
   ]
  },
  {
   "cell_type": "code",
   "execution_count": 2,
   "id": "b4f27c17",
   "metadata": {},
   "outputs": [
    {
     "name": "stdout",
     "output_type": "stream",
     "text": [
      "/Users/admin/Desktop\n"
     ]
    }
   ],
   "source": [
    "cd Desktop"
   ]
  },
  {
   "cell_type": "code",
   "execution_count": 3,
   "id": "548960b3",
   "metadata": {},
   "outputs": [
    {
     "data": {
      "text/html": [
       "<div>\n",
       "<style scoped>\n",
       "    .dataframe tbody tr th:only-of-type {\n",
       "        vertical-align: middle;\n",
       "    }\n",
       "\n",
       "    .dataframe tbody tr th {\n",
       "        vertical-align: top;\n",
       "    }\n",
       "\n",
       "    .dataframe thead th {\n",
       "        text-align: right;\n",
       "    }\n",
       "</style>\n",
       "<table border=\"1\" class=\"dataframe\">\n",
       "  <thead>\n",
       "    <tr style=\"text-align: right;\">\n",
       "      <th></th>\n",
       "      <th>Camera</th>\n",
       "      <th>Price</th>\n",
       "      <th>Imaging</th>\n",
       "      <th>Features</th>\n",
       "      <th>Size</th>\n",
       "      <th>Points</th>\n",
       "    </tr>\n",
       "  </thead>\n",
       "  <tbody>\n",
       "    <tr>\n",
       "      <th>0</th>\n",
       "      <td>A6000</td>\n",
       "      <td>499</td>\n",
       "      <td>62</td>\n",
       "      <td>62</td>\n",
       "      <td>91</td>\n",
       "      <td>67</td>\n",
       "    </tr>\n",
       "    <tr>\n",
       "      <th>1</th>\n",
       "      <td>A6100</td>\n",
       "      <td>749</td>\n",
       "      <td>63</td>\n",
       "      <td>74</td>\n",
       "      <td>88</td>\n",
       "      <td>74</td>\n",
       "    </tr>\n",
       "    <tr>\n",
       "      <th>2</th>\n",
       "      <td>A6400</td>\n",
       "      <td>899</td>\n",
       "      <td>62</td>\n",
       "      <td>78</td>\n",
       "      <td>89</td>\n",
       "      <td>75</td>\n",
       "    </tr>\n",
       "    <tr>\n",
       "      <th>3</th>\n",
       "      <td>A6500</td>\n",
       "      <td>1199</td>\n",
       "      <td>64</td>\n",
       "      <td>73</td>\n",
       "      <td>87</td>\n",
       "      <td>73</td>\n",
       "    </tr>\n",
       "    <tr>\n",
       "      <th>4</th>\n",
       "      <td>A6600</td>\n",
       "      <td>1399</td>\n",
       "      <td>62</td>\n",
       "      <td>85</td>\n",
       "      <td>85</td>\n",
       "      <td>79</td>\n",
       "    </tr>\n",
       "    <tr>\n",
       "      <th>5</th>\n",
       "      <td>A7</td>\n",
       "      <td>1449</td>\n",
       "      <td>73</td>\n",
       "      <td>70</td>\n",
       "      <td>85</td>\n",
       "      <td>76</td>\n",
       "    </tr>\n",
       "    <tr>\n",
       "      <th>6</th>\n",
       "      <td>A7II</td>\n",
       "      <td>1699</td>\n",
       "      <td>74</td>\n",
       "      <td>79</td>\n",
       "      <td>80</td>\n",
       "      <td>80</td>\n",
       "    </tr>\n",
       "    <tr>\n",
       "      <th>7</th>\n",
       "      <td>A7III</td>\n",
       "      <td>1999</td>\n",
       "      <td>81</td>\n",
       "      <td>91</td>\n",
       "      <td>77</td>\n",
       "      <td>89</td>\n",
       "    </tr>\n",
       "    <tr>\n",
       "      <th>8</th>\n",
       "      <td>A7SII</td>\n",
       "      <td>3000</td>\n",
       "      <td>72</td>\n",
       "      <td>80</td>\n",
       "      <td>79</td>\n",
       "      <td>81</td>\n",
       "    </tr>\n",
       "    <tr>\n",
       "      <th>9</th>\n",
       "      <td>A7SIII</td>\n",
       "      <td>3495</td>\n",
       "      <td>71</td>\n",
       "      <td>100</td>\n",
       "      <td>75</td>\n",
       "      <td>90</td>\n",
       "    </tr>\n",
       "    <tr>\n",
       "      <th>10</th>\n",
       "      <td>A7RII</td>\n",
       "      <td>1298</td>\n",
       "      <td>87</td>\n",
       "      <td>80</td>\n",
       "      <td>79</td>\n",
       "      <td>87</td>\n",
       "    </tr>\n",
       "    <tr>\n",
       "      <th>11</th>\n",
       "      <td>A7RIII</td>\n",
       "      <td>2298</td>\n",
       "      <td>87</td>\n",
       "      <td>95</td>\n",
       "      <td>77</td>\n",
       "      <td>94</td>\n",
       "    </tr>\n",
       "    <tr>\n",
       "      <th>12</th>\n",
       "      <td>A7RIV</td>\n",
       "      <td>3499</td>\n",
       "      <td>93</td>\n",
       "      <td>98</td>\n",
       "      <td>76</td>\n",
       "      <td>99</td>\n",
       "    </tr>\n",
       "    <tr>\n",
       "      <th>13</th>\n",
       "      <td>A7C</td>\n",
       "      <td>1798</td>\n",
       "      <td>81</td>\n",
       "      <td>82</td>\n",
       "      <td>85</td>\n",
       "      <td>85</td>\n",
       "    </tr>\n",
       "  </tbody>\n",
       "</table>\n",
       "</div>"
      ],
      "text/plain": [
       "    Camera  Price  Imaging  Features  Size  Points\n",
       "0    A6000    499       62        62    91      67\n",
       "1    A6100    749       63        74    88      74\n",
       "2    A6400    899       62        78    89      75\n",
       "3    A6500   1199       64        73    87      73\n",
       "4    A6600   1399       62        85    85      79\n",
       "5       A7   1449       73        70    85      76\n",
       "6     A7II   1699       74        79    80      80\n",
       "7    A7III   1999       81        91    77      89\n",
       "8    A7SII   3000       72        80    79      81\n",
       "9   A7SIII   3495       71       100    75      90\n",
       "10   A7RII   1298       87        80    79      87\n",
       "11  A7RIII   2298       87        95    77      94\n",
       "12   A7RIV   3499       93        98    76      99\n",
       "13     A7C   1798       81        82    85      85"
      ]
     },
     "execution_count": 3,
     "metadata": {},
     "output_type": "execute_result"
    }
   ],
   "source": [
    "df=pd.read_csv('sonycameras.csv')\n",
    "df"
   ]
  },
  {
   "cell_type": "code",
   "execution_count": 4,
   "id": "09b2dd3f",
   "metadata": {},
   "outputs": [],
   "source": [
    "cameras = df.Camera.tolist()\n",
    "prices=df.Price.tolist()\n",
    "points = df.Points.tolist()"
   ]
  },
  {
   "cell_type": "code",
   "execution_count": 5,
   "id": "a058d57a",
   "metadata": {},
   "outputs": [],
   "source": [
    "reg=linear_model.LinearRegression()"
   ]
  },
  {
   "cell_type": "code",
   "execution_count": 6,
   "id": "450685dd",
   "metadata": {},
   "outputs": [
    {
     "data": {
      "text/plain": [
       "LinearRegression()"
      ]
     },
     "execution_count": 6,
     "metadata": {},
     "output_type": "execute_result"
    }
   ],
   "source": [
    "reg.fit(df[['Price','Imaging','Features','Size']],df.Points)"
   ]
  },
  {
   "cell_type": "code",
   "execution_count": 7,
   "id": "fef122a6",
   "metadata": {},
   "outputs": [
    {
     "name": "stdout",
     "output_type": "stream",
     "text": [
      "Enter your budget : 2400\n",
      "Imaging quality(out of 100) : 80\n",
      "Feature Score (out of 100) : 85\n",
      "Size score(out of 100) smaller cameras have greater score : 75\n"
     ]
    }
   ],
   "source": [
    "your_budget=int(input(\"Enter your budget : \"))\n",
    "imaging_cam=int(input(\"Imaging quality(out of 100) : \"))\n",
    "features_cam=int(input(\"Feature Score (out of 100) : \"))\n",
    "size_cam=int(input(\"Size score(out of 100) smaller cameras have greater score : \"))"
   ]
  },
  {
   "cell_type": "code",
   "execution_count": 10,
   "id": "aac71095",
   "metadata": {},
   "outputs": [],
   "source": [
    "def perfect_camera(lis,lis2, pred):\n",
    "    arr=np.asarray(lis)\n",
    "    ind=(np.abs(arr - pred)).argmin()\n",
    "    if (prices[ind] <= your_budget):\n",
    "        best_cam=lis2[ind]\n",
    "        return best_cam\n",
    "    else:\n",
    "        s='No matches found'\n",
    "        return s"
   ]
  },
  {
   "cell_type": "code",
   "execution_count": 11,
   "id": "158ddaa8",
   "metadata": {},
   "outputs": [
    {
     "data": {
      "text/plain": [
       "'A7RII'"
      ]
     },
     "execution_count": 11,
     "metadata": {},
     "output_type": "execute_result"
    }
   ],
   "source": [
    "pred=reg.predict([[your_budget,imaging_cam,features_cam,size_cam]])\n",
    "perfect_camera(points,cameras,pred)"
   ]
  },
  {
   "cell_type": "code",
   "execution_count": null,
   "id": "cffeac5d",
   "metadata": {},
   "outputs": [],
   "source": []
  }
 ],
 "metadata": {
  "kernelspec": {
   "display_name": "Python 3",
   "language": "python",
   "name": "python3"
  },
  "language_info": {
   "codemirror_mode": {
    "name": "ipython",
    "version": 3
   },
   "file_extension": ".py",
   "mimetype": "text/x-python",
   "name": "python",
   "nbconvert_exporter": "python",
   "pygments_lexer": "ipython3",
   "version": "3.9.5"
  }
 },
 "nbformat": 4,
 "nbformat_minor": 5
}
